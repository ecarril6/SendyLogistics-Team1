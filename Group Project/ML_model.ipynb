{
 "cells": [
  {
   "cell_type": "code",
   "execution_count": 190,
   "id": "59cc8ad8",
   "metadata": {},
   "outputs": [],
   "source": [
    "import pandas as pd\n",
    "import numpy as np\n",
    "import seaborn as sns"
   ]
  },
  {
   "cell_type": "code",
   "execution_count": 191,
   "id": "2f903859",
   "metadata": {},
   "outputs": [
    {
     "data": {
      "text/plain": [
       "order_no                            object\n",
       "user_id                             object\n",
       "vehicle_type                        object\n",
       "platform_type                       object\n",
       "customer_type                       object\n",
       "placed_day                          object\n",
       "placed_wkday                        object\n",
       "placed_time                 datetime64[ns]\n",
       "confirmed_day                       object\n",
       "confirmed_wkday                     object\n",
       "confirmed_time              datetime64[ns]\n",
       "arrive_pickup_day                   object\n",
       "arrive_pickup_wkday                 object\n",
       "arrive_pickup_time          datetime64[ns]\n",
       "pickup_day                          object\n",
       "pickup_wkday                        object\n",
       "pickup_time                 datetime64[ns]\n",
       "delivered_day                       object\n",
       "delivered_wkday                     object\n",
       "delivered_time              datetime64[ns]\n",
       "distance_covered_km                  int64\n",
       "temp                               float64\n",
       "pickup_lat                         float64\n",
       "pickup_long                        float64\n",
       "delivered_lat                      float64\n",
       "delivered_long                     float64\n",
       "Rider Id                            object\n",
       "time_pickup_to_delivered             int64\n",
       "No_Of_Orders                         int64\n",
       "Age                                  int64\n",
       "Average_Rating                     float64\n",
       "No_of_Ratings                        int64\n",
       "pickup_hr                            int64\n",
       "pickup_hr_type                      object\n",
       "delivered_hr                         int64\n",
       "delivered_hr_type                   object\n",
       "pickup_wkday_type                   object\n",
       "speed_ms                           float64\n",
       "speed_type                          object\n",
       "dtype: object"
      ]
     },
     "execution_count": 191,
     "metadata": {},
     "output_type": "execute_result"
    }
   ],
   "source": [
    "df = pd.read_pickle(\"data/sendy3.pkl\")\n",
    "df.head()\n",
    "df.dtypes"
   ]
  },
  {
   "cell_type": "code",
   "execution_count": 192,
   "id": "1aa98150",
   "metadata": {},
   "outputs": [
    {
     "data": {
      "text/plain": [
       "order_no                      0\n",
       "user_id                       0\n",
       "vehicle_type                  0\n",
       "platform_type                 0\n",
       "customer_type                 0\n",
       "placed_day                    0\n",
       "placed_wkday                  0\n",
       "placed_time                   0\n",
       "confirmed_day                 0\n",
       "confirmed_wkday               0\n",
       "confirmed_time                0\n",
       "arrive_pickup_day             0\n",
       "arrive_pickup_wkday           0\n",
       "arrive_pickup_time            0\n",
       "pickup_day                    0\n",
       "pickup_wkday                  0\n",
       "pickup_time                   0\n",
       "delivered_day                 0\n",
       "delivered_wkday               0\n",
       "delivered_time                0\n",
       "distance_covered_km           0\n",
       "temp                          0\n",
       "pickup_lat                    0\n",
       "pickup_long                   0\n",
       "delivered_lat                 0\n",
       "delivered_long                0\n",
       "Rider Id                      0\n",
       "time_pickup_to_delivered      0\n",
       "No_Of_Orders                  0\n",
       "Age                           0\n",
       "Average_Rating                0\n",
       "No_of_Ratings                 0\n",
       "pickup_hr                     0\n",
       "pickup_hr_type               66\n",
       "delivered_hr                  0\n",
       "delivered_hr_type           110\n",
       "pickup_wkday_type             0\n",
       "speed_ms                      0\n",
       "speed_type                    0\n",
       "dtype: int64"
      ]
     },
     "execution_count": 192,
     "metadata": {},
     "output_type": "execute_result"
    }
   ],
   "source": [
    "df.isnull().sum()"
   ]
  },
  {
   "cell_type": "code",
   "execution_count": 193,
   "id": "a19a2cb9",
   "metadata": {},
   "outputs": [
    {
     "data": {
      "text/plain": [
       "array([5, 2, 1, 3, 4, 6, 7], dtype=object)"
      ]
     },
     "execution_count": 193,
     "metadata": {},
     "output_type": "execute_result"
    }
   ],
   "source": [
    "df['confirmed_wkday'].unique()"
   ]
  },
  {
   "cell_type": "code",
   "execution_count": 194,
   "id": "bc5312a0",
   "metadata": {},
   "outputs": [
    {
     "data": {
      "text/plain": [
       "array([5, 2, 1, 3, 4, 6, 7], dtype=object)"
      ]
     },
     "execution_count": 194,
     "metadata": {},
     "output_type": "execute_result"
    }
   ],
   "source": [
    "df['placed_wkday'].unique()"
   ]
  },
  {
   "cell_type": "code",
   "execution_count": 195,
   "id": "2065e698",
   "metadata": {},
   "outputs": [],
   "source": [
    "## grouping the day variables [0 for weekend and 1 for weekday]\n",
    "df.loc[(df[\"placed_wkday\"] <= 5) , \"placed_wkday_type\"] = 1\n",
    "df.loc[(df[\"placed_wkday\"] > 5), \"placed_wkday_type\"] = 0\n",
    "\n",
    "df.loc[(df[\"confirmed_wkday\"] <= 5) , \"confirmed_wkday_type\"] = 1\n",
    "df.loc[(df[\"confirmed_wkday\"] > 5) , \"confirmed_wkday_type\"] = 0\n",
    "\n",
    "df.loc[(df[\"arrive_pickup_wkday\"] <= 5) , \"arrive_pickup_wkday\"] = 1\n",
    "df.loc[(df[\"arrive_pickup_wkday\"] > 5) , \"arrive_pickup_wkday\"] = 0\n",
    "\n",
    "df.loc[(df[\"delivered_wkday\"] <= 5) , \"delivered_wkday\"] = 1\n",
    "df.loc[(df[\"delivered_wkday\"] > 5) , \"delivered_wkday\"] = 0\n",
    "\n",
    "df['pickup_wkday_type'].replace(['Weekday', 'Weekend'], [1,0], inplace = True)\n",
    "## grouping the time variables [0 for inactive, and 1 for active hours]\n",
    "\n",
    "df.loc[(df[\"placed_time\"].dt.hour >= 7) & (df[\"placed_time\"].dt.hour < 9) , \"placed_hr_type\"] = 0\n",
    "df.loc[(df[\"placed_time\"].dt.hour > 17) & (df[\"placed_time\"].dt.hour <= 19) , \"placed_hr_type\"] = 0\n",
    "df.loc[(df[\"placed_time\"].dt.hour >= 9) & (df[\"placed_time\"].dt.hour <= 17), \"placed_hr_type\"] = 1\n",
    "\n",
    "df.loc[(df[\"confirmed_time\"].dt.hour >= 7) & (df[\"confirmed_time\"].dt.hour < 9) , \"confirmed_hr_type\"] = 0\n",
    "df.loc[(df[\"confirmed_time\"].dt.hour > 17) & (df[\"confirmed_time\"].dt.hour <= 19) , \"confirmed_hr_type\"] = 0\n",
    "df.loc[(df[\"confirmed_time\"].dt.hour >= 9) & (df[\"confirmed_time\"].dt.hour <= 17), \"confirmed_hr_type\"] = 1\n",
    "\n",
    "df.loc[(df[\"arrive_pickup_time\"].dt.hour >= 7) & (df[\"arrive_pickup_time\"].dt.hour < 9) , \"arrive_pickup_hr_type\"] = 0\n",
    "df.loc[(df[\"arrive_pickup_time\"].dt.hour > 17) & (df[\"arrive_pickup_time\"].dt.hour <= 19) , \"arrive_pickup_hr_type\"] = 0\n",
    "df.loc[(df[\"arrive_pickup_time\"].dt.hour >= 9) & (df[\"arrive_pickup_time\"].dt.hour <= 17), \"arrive_pickup_hr_type\"] = 1\n",
    "\n",
    "df['delivered_hr_type'].replace(['Active Hours', 'Inactive Hours'], [1,0], inplace = True)\n",
    "df['pickup_hr_type'].replace(['Active Hours', 'Inactive Hours'], [1,0], inplace = True)\n"
   ]
  },
  {
   "cell_type": "code",
   "execution_count": 196,
   "id": "b102c881",
   "metadata": {},
   "outputs": [],
   "source": [
    "## Dropping all the unneeded features\n",
    "df.drop(['order_no','user_id', 'placed_wkday', 'placed_time', 'confirmed_wkday', 'confirmed_time', 'arrive_pickup_wkday', 'arrive_pickup_time', 'pickup_wkday', 'pickup_time', 'delivered_wkday', 'delivered_time', 'Rider Id',\n",
    "        'pickup_hr', 'delivered_hr'], axis =1, inplace=True)"
   ]
  },
  {
   "cell_type": "code",
   "execution_count": 197,
   "id": "8f3ac544",
   "metadata": {},
   "outputs": [],
   "source": [
    "## Converting string values into numeric\n",
    "df['vehicle_type'].replace([\"Bike\"], [1], inplace= True)\n",
    "df[\"platform_type\"].replace(['1', '2', '3', '4'], [1,2,3,4], inplace = True)\n",
    "df[\"customer_type\"].replace([\"Business\", \"Personal\"], [0,1], inplace= True)\n",
    "\n",
    "df[\"placed_day\"] = df[\"placed_day\"].astype(str).astype(int)\n",
    "df[\"confirmed_day\"] = df[\"confirmed_day\"].astype(str).astype(int)\n",
    "df[\"arrive_pickup_day\"] = df[\"arrive_pickup_day\"].astype(str).astype(int)\n",
    "df[\"pickup_day\"] = df[\"pickup_day\"].astype(str).astype(int)\n",
    "df[\"delivered_day\"] = df[\"delivered_day\"].astype(str).astype(int)\n",
    "\n"
   ]
  },
  {
   "cell_type": "code",
   "execution_count": 198,
   "id": "afa2a32d",
   "metadata": {},
   "outputs": [],
   "source": [
    "df['speed_type'].replace(['slow', 'average', 'fast'], [0,1,2], inplace= True)"
   ]
  },
  {
   "cell_type": "code",
   "execution_count": 199,
   "id": "2e58db19",
   "metadata": {},
   "outputs": [
    {
     "data": {
      "text/plain": [
       "vehicle_type                  int64\n",
       "platform_type                 int64\n",
       "customer_type                 int64\n",
       "placed_day                    int32\n",
       "confirmed_day                 int32\n",
       "arrive_pickup_day             int32\n",
       "pickup_day                    int32\n",
       "delivered_day                 int32\n",
       "distance_covered_km           int64\n",
       "temp                        float64\n",
       "pickup_lat                  float64\n",
       "pickup_long                 float64\n",
       "delivered_lat               float64\n",
       "delivered_long              float64\n",
       "time_pickup_to_delivered      int64\n",
       "No_Of_Orders                  int64\n",
       "Age                           int64\n",
       "Average_Rating              float64\n",
       "No_of_Ratings                 int64\n",
       "pickup_hr_type              float64\n",
       "delivered_hr_type           float64\n",
       "pickup_wkday_type             int64\n",
       "speed_ms                    float64\n",
       "speed_type                    int64\n",
       "placed_wkday_type           float64\n",
       "confirmed_wkday_type        float64\n",
       "placed_hr_type              float64\n",
       "confirmed_hr_type           float64\n",
       "arrive_pickup_hr_type       float64\n",
       "dtype: object"
      ]
     },
     "execution_count": 199,
     "metadata": {},
     "output_type": "execute_result"
    }
   ],
   "source": [
    "df.dtypes"
   ]
  },
  {
   "cell_type": "code",
   "execution_count": 200,
   "id": "bc4d59b1",
   "metadata": {},
   "outputs": [],
   "source": [
    "## Rearranging the target column\n",
    "last_col = df.pop('time_pickup_to_delivered')"
   ]
  },
  {
   "cell_type": "code",
   "execution_count": 201,
   "id": "1309f8a6",
   "metadata": {},
   "outputs": [],
   "source": [
    "df.insert(0,'time_pickup_to_delivered', last_col)"
   ]
  },
  {
   "cell_type": "code",
   "execution_count": 202,
   "id": "474f9483",
   "metadata": {},
   "outputs": [
    {
     "data": {
      "text/plain": [
       "time_pickup_to_delivered      0\n",
       "vehicle_type                  0\n",
       "platform_type                 0\n",
       "customer_type                 0\n",
       "placed_day                    0\n",
       "confirmed_day                 0\n",
       "arrive_pickup_day             0\n",
       "pickup_day                    0\n",
       "delivered_day                 0\n",
       "distance_covered_km           0\n",
       "temp                          0\n",
       "pickup_lat                    0\n",
       "pickup_long                   0\n",
       "delivered_lat                 0\n",
       "delivered_long                0\n",
       "No_Of_Orders                  0\n",
       "Age                           0\n",
       "Average_Rating                0\n",
       "No_of_Ratings                 0\n",
       "pickup_hr_type               66\n",
       "delivered_hr_type           110\n",
       "pickup_wkday_type             0\n",
       "speed_ms                      0\n",
       "speed_type                    0\n",
       "placed_wkday_type             0\n",
       "confirmed_wkday_type          0\n",
       "placed_hr_type               43\n",
       "confirmed_hr_type            42\n",
       "arrive_pickup_hr_type        53\n",
       "dtype: int64"
      ]
     },
     "execution_count": 202,
     "metadata": {},
     "output_type": "execute_result"
    }
   ],
   "source": [
    "## Checking for null values\n",
    "df.isna().sum()"
   ]
  },
  {
   "cell_type": "code",
   "execution_count": 203,
   "id": "8cf51584",
   "metadata": {},
   "outputs": [],
   "source": [
    "## imputing the columns with NAs \n",
    "import missingno as msno"
   ]
  },
  {
   "cell_type": "code",
   "execution_count": 204,
   "id": "61e3658d",
   "metadata": {},
   "outputs": [],
   "source": [
    "df.pickup_hr_type.fillna(df.pickup_hr_type.mean(), inplace= True)\n",
    "df.delivered_hr_type.fillna(df.delivered_hr_type.mean(), inplace= True)\n",
    "df.placed_hr_type.fillna(df.placed_hr_type.mean(), inplace=True)\n",
    "df.confirmed_hr_type.fillna(df.confirmed_hr_type.mean(), inplace= True)\n",
    "df.arrive_pickup_hr_type.fillna(df.arrive_pickup_hr_type.mean(), inplace=True)"
   ]
  },
  {
   "cell_type": "code",
   "execution_count": 205,
   "id": "80501fdf",
   "metadata": {},
   "outputs": [
    {
     "data": {
      "text/plain": [
       "time_pickup_to_delivered    0\n",
       "vehicle_type                0\n",
       "platform_type               0\n",
       "customer_type               0\n",
       "placed_day                  0\n",
       "confirmed_day               0\n",
       "arrive_pickup_day           0\n",
       "pickup_day                  0\n",
       "delivered_day               0\n",
       "distance_covered_km         0\n",
       "temp                        0\n",
       "pickup_lat                  0\n",
       "pickup_long                 0\n",
       "delivered_lat               0\n",
       "delivered_long              0\n",
       "No_Of_Orders                0\n",
       "Age                         0\n",
       "Average_Rating              0\n",
       "No_of_Ratings               0\n",
       "pickup_hr_type              0\n",
       "delivered_hr_type           0\n",
       "pickup_wkday_type           0\n",
       "speed_ms                    0\n",
       "speed_type                  0\n",
       "placed_wkday_type           0\n",
       "confirmed_wkday_type        0\n",
       "placed_hr_type              0\n",
       "confirmed_hr_type           0\n",
       "arrive_pickup_hr_type       0\n",
       "dtype: int64"
      ]
     },
     "execution_count": 205,
     "metadata": {},
     "output_type": "execute_result"
    }
   ],
   "source": [
    "df.isna().sum()\n",
    "### yesss, no missing data!!"
   ]
  },
  {
   "cell_type": "code",
   "execution_count": 206,
   "id": "a4d71646",
   "metadata": {},
   "outputs": [],
   "source": [
    "from sklearn.model_selection import train_test_split"
   ]
  },
  {
   "cell_type": "code",
   "execution_count": 207,
   "id": "d3e4cd61",
   "metadata": {},
   "outputs": [
    {
     "name": "stdout",
     "output_type": "stream",
     "text": [
      "The training set has  14211 rows\n",
      "The test set has  3553 rows\n"
     ]
    }
   ],
   "source": [
    "train, test = train_test_split(df, test_size = 0.2, random_state =0)\n",
    "\n",
    "print('The training set has ', train.shape[0], 'rows')\n",
    "print('The test set has ', test.shape[0], 'rows')"
   ]
  },
  {
   "cell_type": "code",
   "execution_count": 208,
   "id": "e7eaf924",
   "metadata": {},
   "outputs": [],
   "source": [
    "## Initislizing the KNN model\n",
    "from sklearn.neighbors import KNeighborsRegressor\n",
    "knn = KNeighborsRegressor()"
   ]
  },
  {
   "cell_type": "code",
   "execution_count": 209,
   "id": "2d592837",
   "metadata": {},
   "outputs": [
    {
     "data": {
      "text/plain": [
       "KNeighborsRegressor()"
      ]
     },
     "execution_count": 209,
     "metadata": {},
     "output_type": "execute_result"
    }
   ],
   "source": [
    "## Fitting the KNN model\n",
    "knn.fit(X=train.iloc[:,1:], y=train.time_pickup_to_delivered)"
   ]
  },
  {
   "cell_type": "code",
   "execution_count": 210,
   "id": "9f0c5ca1",
   "metadata": {},
   "outputs": [],
   "source": [
    "## Standardizing the data\n",
    "from sklearn.preprocessing import StandardScaler\n",
    "scaler = StandardScaler()\n",
    "\n",
    "df = scaler.fit_transform(train)"
   ]
  },
  {
   "cell_type": "code",
   "execution_count": 211,
   "id": "384c5437",
   "metadata": {},
   "outputs": [],
   "source": [
    "y_pred = knn.predict(X=test.iloc[:,1:])"
   ]
  },
  {
   "cell_type": "code",
   "execution_count": 212,
   "id": "9fa0ec74",
   "metadata": {},
   "outputs": [],
   "source": [
    "### Calculating the evaluation metrics\n",
    "from sklearn.metrics import mean_squared_error, mean_absolute_error, r2_score"
   ]
  },
  {
   "cell_type": "code",
   "execution_count": 213,
   "id": "8ec52705",
   "metadata": {},
   "outputs": [
    {
     "data": {
      "text/plain": [
       "704430.7532789191"
      ]
     },
     "execution_count": 213,
     "metadata": {},
     "output_type": "execute_result"
    }
   ],
   "source": [
    "mean_squared_error(y_true=test['time_pickup_to_delivered'], y_pred = y_pred)"
   ]
  },
  {
   "cell_type": "code",
   "execution_count": 214,
   "id": "ee4ec84d",
   "metadata": {},
   "outputs": [
    {
     "data": {
      "text/plain": [
       "595.7023360540388"
      ]
     },
     "execution_count": 214,
     "metadata": {},
     "output_type": "execute_result"
    }
   ],
   "source": [
    "mean_absolute_error(y_true=test['time_pickup_to_delivered'], y_pred = y_pred)"
   ]
  },
  {
   "cell_type": "code",
   "execution_count": 215,
   "id": "5f32926c",
   "metadata": {},
   "outputs": [
    {
     "data": {
      "text/plain": [
       "0.18927825268709075"
      ]
     },
     "execution_count": 215,
     "metadata": {},
     "output_type": "execute_result"
    }
   ],
   "source": [
    "r2_score(y_true=test['time_pickup_to_delivered'], y_pred =y_pred)"
   ]
  },
  {
   "cell_type": "code",
   "execution_count": 216,
   "id": "e695ed63",
   "metadata": {},
   "outputs": [],
   "source": [
    "## Choosing K\n",
    "knn1 = KNeighborsRegressor(n_neighbors = 1) # K = 1\n",
    "knn1.fit(X=train.iloc[:,1:], y=train.time_pickup_to_delivered)\n",
    "y_pred1 = knn1.predict(X=test.iloc[:,1:])\n",
    "\n",
    "knn3 = KNeighborsRegressor(n_neighbors = 3) # K = 3\n",
    "knn3.fit(X=train.iloc[:,1:], y=train.time_pickup_to_delivered)\n",
    "y_pred3 = knn3.predict(X=test.iloc[:,1:])\n",
    "\n",
    "knn5 = KNeighborsRegressor(n_neighbors = 5) # K = 5\n",
    "knn5.fit(X=train.iloc[:,1:], y=train.time_pickup_to_delivered)\n",
    "y_pred5 = knn5.predict(X=test.iloc[:,1:])\n"
   ]
  },
  {
   "cell_type": "code",
   "execution_count": 217,
   "id": "3bc5e72f",
   "metadata": {},
   "outputs": [
    {
     "name": "stdout",
     "output_type": "stream",
     "text": [
      "MSE\n",
      "K = 1\t 645.9197860962566\n",
      "K = 3\t 589.5702223473122\n",
      "K = 5\t 595.7023360540388\n"
     ]
    }
   ],
   "source": [
    "print('MAE')\n",
    "print('K = 1\\t', mean_absolute_error(y_true=test['time_pickup_to_delivered'], y_pred=y_pred1))\n",
    "print('K = 3\\t', mean_absolute_error(y_true=test['time_pickup_to_delivered'], y_pred=y_pred3))\n",
    "print('K = 5\\t', mean_absolute_error(y_true=test['time_pickup_to_delivered'], y_pred=y_pred5))\n"
   ]
  },
  {
   "cell_type": "code",
   "execution_count": 218,
   "id": "84e5f8c1",
   "metadata": {},
   "outputs": [
    {
     "name": "stdout",
     "output_type": "stream",
     "text": [
      "MSE\n",
      "K = 1\t 890055.1784407543\n",
      "K = 3\t 701824.027988867\n",
      "K = 5\t 704430.7532789191\n"
     ]
    }
   ],
   "source": [
    "print('MSE')\n",
    "print('K = 1\\t', mean_squared_error(y_true=test['time_pickup_to_delivered'], y_pred=y_pred1))\n",
    "print('K = 3\\t', mean_squared_error(y_true=test['time_pickup_to_delivered'], y_pred=y_pred3))\n",
    "print('K = 5\\t', mean_squared_error(y_true=test['time_pickup_to_delivered'], y_pred=y_pred5))"
   ]
  },
  {
   "cell_type": "code",
   "execution_count": 219,
   "id": "7012aa29",
   "metadata": {},
   "outputs": [
    {
     "name": "stdout",
     "output_type": "stream",
     "text": [
      "R^2 Score\n",
      "K = 1\t -0.024354893808390177\n",
      "K = 3\t 0.19227830467527962\n",
      "K = 5\t 0.18927825268709075\n"
     ]
    }
   ],
   "source": [
    "print('R^2 Score')\n",
    "print('K = 1\\t', r2_score(y_true=test['time_pickup_to_delivered'], y_pred =y_pred1))\n",
    "print('K = 3\\t', r2_score(y_true=test['time_pickup_to_delivered'], y_pred=y_pred3))\n",
    "print('K = 5\\t', r2_score(y_true=test['time_pickup_to_delivered'], y_pred=y_pred5))"
   ]
  },
  {
   "cell_type": "code",
   "execution_count": null,
   "id": "21a7de26",
   "metadata": {},
   "outputs": [],
   "source": [
    "### Notice that k =3 is the best option from the following since it has the lowest MAE and MSE and the highest R2 score"
   ]
  },
  {
   "cell_type": "code",
   "execution_count": 220,
   "id": "0d219008",
   "metadata": {},
   "outputs": [],
   "source": [
    "from sklearn import metrics #accuracy measure"
   ]
  },
  {
   "cell_type": "code",
   "execution_count": 226,
   "id": "82081151",
   "metadata": {},
   "outputs": [
    {
     "ename": "ValueError",
     "evalue": "Classification metrics can't handle a mix of continuous and multiclass targets",
     "output_type": "error",
     "traceback": [
      "\u001b[1;31m---------------------------------------------------------------------------\u001b[0m",
      "\u001b[1;31mValueError\u001b[0m                                Traceback (most recent call last)",
      "Input \u001b[1;32mIn [226]\u001b[0m, in \u001b[0;36m<cell line: 1>\u001b[1;34m()\u001b[0m\n\u001b[1;32m----> 1\u001b[0m \u001b[38;5;28mprint\u001b[39m(\u001b[38;5;124m\"\u001b[39m\u001b[38;5;124mThe accuracy of the KNN with K = 3, is \u001b[39m\u001b[38;5;124m\"\u001b[39m, \u001b[43mmetrics\u001b[49m\u001b[38;5;241;43m.\u001b[39;49m\u001b[43maccuracy_score\u001b[49m\u001b[43m(\u001b[49m\u001b[43my_pred3\u001b[49m\u001b[43m,\u001b[49m\u001b[43mtest\u001b[49m\u001b[43m[\u001b[49m\u001b[38;5;124;43m'\u001b[39;49m\u001b[38;5;124;43mtime_pickup_to_delivered\u001b[39;49m\u001b[38;5;124;43m'\u001b[39;49m\u001b[43m]\u001b[49m\u001b[43m)\u001b[49m)\n",
      "File \u001b[1;32m~\\anaconda3\\lib\\site-packages\\sklearn\\metrics\\_classification.py:211\u001b[0m, in \u001b[0;36maccuracy_score\u001b[1;34m(y_true, y_pred, normalize, sample_weight)\u001b[0m\n\u001b[0;32m    145\u001b[0m \u001b[38;5;124;03m\"\"\"Accuracy classification score.\u001b[39;00m\n\u001b[0;32m    146\u001b[0m \n\u001b[0;32m    147\u001b[0m \u001b[38;5;124;03mIn multilabel classification, this function computes subset accuracy:\u001b[39;00m\n\u001b[1;32m   (...)\u001b[0m\n\u001b[0;32m    207\u001b[0m \u001b[38;5;124;03m0.5\u001b[39;00m\n\u001b[0;32m    208\u001b[0m \u001b[38;5;124;03m\"\"\"\u001b[39;00m\n\u001b[0;32m    210\u001b[0m \u001b[38;5;66;03m# Compute accuracy for each possible representation\u001b[39;00m\n\u001b[1;32m--> 211\u001b[0m y_type, y_true, y_pred \u001b[38;5;241m=\u001b[39m \u001b[43m_check_targets\u001b[49m\u001b[43m(\u001b[49m\u001b[43my_true\u001b[49m\u001b[43m,\u001b[49m\u001b[43m \u001b[49m\u001b[43my_pred\u001b[49m\u001b[43m)\u001b[49m\n\u001b[0;32m    212\u001b[0m check_consistent_length(y_true, y_pred, sample_weight)\n\u001b[0;32m    213\u001b[0m \u001b[38;5;28;01mif\u001b[39;00m y_type\u001b[38;5;241m.\u001b[39mstartswith(\u001b[38;5;124m\"\u001b[39m\u001b[38;5;124mmultilabel\u001b[39m\u001b[38;5;124m\"\u001b[39m):\n",
      "File \u001b[1;32m~\\anaconda3\\lib\\site-packages\\sklearn\\metrics\\_classification.py:93\u001b[0m, in \u001b[0;36m_check_targets\u001b[1;34m(y_true, y_pred)\u001b[0m\n\u001b[0;32m     90\u001b[0m     y_type \u001b[38;5;241m=\u001b[39m {\u001b[38;5;124m\"\u001b[39m\u001b[38;5;124mmulticlass\u001b[39m\u001b[38;5;124m\"\u001b[39m}\n\u001b[0;32m     92\u001b[0m \u001b[38;5;28;01mif\u001b[39;00m \u001b[38;5;28mlen\u001b[39m(y_type) \u001b[38;5;241m>\u001b[39m \u001b[38;5;241m1\u001b[39m:\n\u001b[1;32m---> 93\u001b[0m     \u001b[38;5;28;01mraise\u001b[39;00m \u001b[38;5;167;01mValueError\u001b[39;00m(\n\u001b[0;32m     94\u001b[0m         \u001b[38;5;124m\"\u001b[39m\u001b[38;5;124mClassification metrics can\u001b[39m\u001b[38;5;124m'\u001b[39m\u001b[38;5;124mt handle a mix of \u001b[39m\u001b[38;5;132;01m{0}\u001b[39;00m\u001b[38;5;124m and \u001b[39m\u001b[38;5;132;01m{1}\u001b[39;00m\u001b[38;5;124m targets\u001b[39m\u001b[38;5;124m\"\u001b[39m\u001b[38;5;241m.\u001b[39mformat(\n\u001b[0;32m     95\u001b[0m             type_true, type_pred\n\u001b[0;32m     96\u001b[0m         )\n\u001b[0;32m     97\u001b[0m     )\n\u001b[0;32m     99\u001b[0m \u001b[38;5;66;03m# We can't have more than one value on y_type => The set is no more needed\u001b[39;00m\n\u001b[0;32m    100\u001b[0m y_type \u001b[38;5;241m=\u001b[39m y_type\u001b[38;5;241m.\u001b[39mpop()\n",
      "\u001b[1;31mValueError\u001b[0m: Classification metrics can't handle a mix of continuous and multiclass targets"
     ]
    }
   ],
   "source": [
    "print(\"The accuracy of the KNN with K = 3, is \", metrics.accuracy_score(y_pred3,test['time_pickup_to_delivered']))"
   ]
  }
 ],
 "metadata": {
  "kernelspec": {
   "display_name": "Python 3 (ipykernel)",
   "language": "python",
   "name": "python3"
  },
  "language_info": {
   "codemirror_mode": {
    "name": "ipython",
    "version": 3
   },
   "file_extension": ".py",
   "mimetype": "text/x-python",
   "name": "python",
   "nbconvert_exporter": "python",
   "pygments_lexer": "ipython3",
   "version": "3.9.12"
  }
 },
 "nbformat": 4,
 "nbformat_minor": 5
}
