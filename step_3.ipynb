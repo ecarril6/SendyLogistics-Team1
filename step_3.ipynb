{
 "cells": [
  {
   "cell_type": "code",
   "execution_count": 1,
   "id": "7e976763",
   "metadata": {},
   "outputs": [],
   "source": [
    "import pandas as pd\n",
    "import seaborn as sns"
   ]
  },
  {
   "cell_type": "code",
   "execution_count": 2,
   "id": "31ae84c2",
   "metadata": {},
   "outputs": [],
   "source": [
    "train = pd.read_csv(\"train2.csv\") # loading the train1 dataset from step_2\n"
   ]
  },
  {
   "cell_type": "code",
   "execution_count": 3,
   "id": "2f279714",
   "metadata": {
    "scrolled": false
   },
   "outputs": [
    {
     "data": {
      "text/html": [
       "<div>\n",
       "<style scoped>\n",
       "    .dataframe tbody tr th:only-of-type {\n",
       "        vertical-align: middle;\n",
       "    }\n",
       "\n",
       "    .dataframe tbody tr th {\n",
       "        vertical-align: top;\n",
       "    }\n",
       "\n",
       "    .dataframe thead th {\n",
       "        text-align: right;\n",
       "    }\n",
       "</style>\n",
       "<table border=\"1\" class=\"dataframe\">\n",
       "  <thead>\n",
       "    <tr style=\"text-align: right;\">\n",
       "      <th></th>\n",
       "      <th>order_no</th>\n",
       "      <th>user_id</th>\n",
       "      <th>vehicle_type</th>\n",
       "      <th>platform_type</th>\n",
       "      <th>customer_type</th>\n",
       "      <th>placed_day</th>\n",
       "      <th>placed_wkday</th>\n",
       "      <th>placed_time</th>\n",
       "      <th>confirmed_day</th>\n",
       "      <th>confirmed_wkday</th>\n",
       "      <th>...</th>\n",
       "      <th>pickup_lat</th>\n",
       "      <th>pickup_long</th>\n",
       "      <th>delivered_lat</th>\n",
       "      <th>delivered_long</th>\n",
       "      <th>Rider Id</th>\n",
       "      <th>time_pickup_to_arrival</th>\n",
       "      <th>No_Of_Orders</th>\n",
       "      <th>Age</th>\n",
       "      <th>Average_Rating</th>\n",
       "      <th>No_of_Ratings</th>\n",
       "    </tr>\n",
       "  </thead>\n",
       "  <tbody>\n",
       "    <tr>\n",
       "      <th>0</th>\n",
       "      <td>Order_No_4211</td>\n",
       "      <td>User_Id_633</td>\n",
       "      <td>Bike</td>\n",
       "      <td>3</td>\n",
       "      <td>Business</td>\n",
       "      <td>9</td>\n",
       "      <td>5</td>\n",
       "      <td>1900-01-01 09:35:46</td>\n",
       "      <td>9</td>\n",
       "      <td>5</td>\n",
       "      <td>...</td>\n",
       "      <td>-1.317755</td>\n",
       "      <td>36.830370</td>\n",
       "      <td>-1.300406</td>\n",
       "      <td>36.829741</td>\n",
       "      <td>Rider_Id_432</td>\n",
       "      <td>745</td>\n",
       "      <td>1637</td>\n",
       "      <td>1309</td>\n",
       "      <td>13.8</td>\n",
       "      <td>549</td>\n",
       "    </tr>\n",
       "    <tr>\n",
       "      <th>1</th>\n",
       "      <td>Order_No_25375</td>\n",
       "      <td>User_Id_2285</td>\n",
       "      <td>Bike</td>\n",
       "      <td>3</td>\n",
       "      <td>Personal</td>\n",
       "      <td>12</td>\n",
       "      <td>5</td>\n",
       "      <td>1900-01-01 11:16:16</td>\n",
       "      <td>12</td>\n",
       "      <td>5</td>\n",
       "      <td>...</td>\n",
       "      <td>-1.351453</td>\n",
       "      <td>36.899315</td>\n",
       "      <td>-1.295004</td>\n",
       "      <td>36.814358</td>\n",
       "      <td>Rider_Id_856</td>\n",
       "      <td>1993</td>\n",
       "      <td>396</td>\n",
       "      <td>339</td>\n",
       "      <td>13.6</td>\n",
       "      <td>69</td>\n",
       "    </tr>\n",
       "    <tr>\n",
       "      <th>2</th>\n",
       "      <td>Order_No_1899</td>\n",
       "      <td>User_Id_265</td>\n",
       "      <td>Bike</td>\n",
       "      <td>3</td>\n",
       "      <td>Business</td>\n",
       "      <td>30</td>\n",
       "      <td>2</td>\n",
       "      <td>1900-01-01 12:39:25</td>\n",
       "      <td>30</td>\n",
       "      <td>2</td>\n",
       "      <td>...</td>\n",
       "      <td>-1.308284</td>\n",
       "      <td>36.843419</td>\n",
       "      <td>-1.300921</td>\n",
       "      <td>36.828195</td>\n",
       "      <td>Rider_Id_155</td>\n",
       "      <td>455</td>\n",
       "      <td>1023</td>\n",
       "      <td>242</td>\n",
       "      <td>12.5</td>\n",
       "      <td>114</td>\n",
       "    </tr>\n",
       "    <tr>\n",
       "      <th>3</th>\n",
       "      <td>Order_No_9336</td>\n",
       "      <td>User_Id_1402</td>\n",
       "      <td>Bike</td>\n",
       "      <td>3</td>\n",
       "      <td>Business</td>\n",
       "      <td>15</td>\n",
       "      <td>5</td>\n",
       "      <td>1900-01-01 09:25:34</td>\n",
       "      <td>15</td>\n",
       "      <td>5</td>\n",
       "      <td>...</td>\n",
       "      <td>-1.281301</td>\n",
       "      <td>36.832396</td>\n",
       "      <td>-1.257147</td>\n",
       "      <td>36.795063</td>\n",
       "      <td>Rider_Id_855</td>\n",
       "      <td>1341</td>\n",
       "      <td>886</td>\n",
       "      <td>283</td>\n",
       "      <td>14.5</td>\n",
       "      <td>113</td>\n",
       "    </tr>\n",
       "    <tr>\n",
       "      <th>4</th>\n",
       "      <td>Order_No_27883</td>\n",
       "      <td>User_Id_1737</td>\n",
       "      <td>Bike</td>\n",
       "      <td>1</td>\n",
       "      <td>Personal</td>\n",
       "      <td>13</td>\n",
       "      <td>1</td>\n",
       "      <td>1900-01-01 09:55:18</td>\n",
       "      <td>13</td>\n",
       "      <td>1</td>\n",
       "      <td>...</td>\n",
       "      <td>-1.266597</td>\n",
       "      <td>36.792118</td>\n",
       "      <td>-1.295041</td>\n",
       "      <td>36.809817</td>\n",
       "      <td>Rider_Id_770</td>\n",
       "      <td>1214</td>\n",
       "      <td>2311</td>\n",
       "      <td>872</td>\n",
       "      <td>14.1</td>\n",
       "      <td>533</td>\n",
       "    </tr>\n",
       "  </tbody>\n",
       "</table>\n",
       "<p>5 rows × 32 columns</p>\n",
       "</div>"
      ],
      "text/plain": [
       "         order_no       user_id vehicle_type  platform_type customer_type  \\\n",
       "0   Order_No_4211   User_Id_633         Bike              3      Business   \n",
       "1  Order_No_25375  User_Id_2285         Bike              3      Personal   \n",
       "2   Order_No_1899   User_Id_265         Bike              3      Business   \n",
       "3   Order_No_9336  User_Id_1402         Bike              3      Business   \n",
       "4  Order_No_27883  User_Id_1737         Bike              1      Personal   \n",
       "\n",
       "   placed_day  placed_wkday          placed_time  confirmed_day  \\\n",
       "0           9             5  1900-01-01 09:35:46              9   \n",
       "1          12             5  1900-01-01 11:16:16             12   \n",
       "2          30             2  1900-01-01 12:39:25             30   \n",
       "3          15             5  1900-01-01 09:25:34             15   \n",
       "4          13             1  1900-01-01 09:55:18             13   \n",
       "\n",
       "   confirmed_wkday  ... pickup_lat  pickup_long  delivered_lat delivered_long  \\\n",
       "0                5  ...  -1.317755    36.830370      -1.300406      36.829741   \n",
       "1                5  ...  -1.351453    36.899315      -1.295004      36.814358   \n",
       "2                2  ...  -1.308284    36.843419      -1.300921      36.828195   \n",
       "3                5  ...  -1.281301    36.832396      -1.257147      36.795063   \n",
       "4                1  ...  -1.266597    36.792118      -1.295041      36.809817   \n",
       "\n",
       "       Rider Id  time_pickup_to_arrival No_Of_Orders   Age  Average_Rating  \\\n",
       "0  Rider_Id_432                     745         1637  1309            13.8   \n",
       "1  Rider_Id_856                    1993          396   339            13.6   \n",
       "2  Rider_Id_155                     455         1023   242            12.5   \n",
       "3  Rider_Id_855                    1341          886   283            14.5   \n",
       "4  Rider_Id_770                    1214         2311   872            14.1   \n",
       "\n",
       "  No_of_Ratings  \n",
       "0           549  \n",
       "1            69  \n",
       "2           114  \n",
       "3           113  \n",
       "4           533  \n",
       "\n",
       "[5 rows x 32 columns]"
      ]
     },
     "execution_count": 3,
     "metadata": {},
     "output_type": "execute_result"
    }
   ],
   "source": [
    "train.head()"
   ]
  },
  {
   "cell_type": "code",
   "execution_count": 11,
   "id": "67c20c6e",
   "metadata": {},
   "outputs": [
    {
     "data": {
      "text/plain": [
       "Index(['order_no', 'user_id', 'vehicle_type', 'platform_type', 'customer_type',\n",
       "       'placed_day', 'placed_wkday', 'placed_time', 'confirmed_day',\n",
       "       'confirmed_wkday', 'confirmed_time', 'arrive_pickup_day',\n",
       "       'arrive_pickup_wkday', 'arrive_pickup_time', 'pickup_day',\n",
       "       'pickup_wkday', 'pickup_time', 'delivered_day', 'delivered_wkday',\n",
       "       'delivered_time', 'distance_km', 'temp', 'pickup_lat', 'pickup_long',\n",
       "       'delivered_lat', 'delivered_long', 'Rider Id', 'time_pickup_to_arrival',\n",
       "       'No_Of_Orders', 'Age', 'Average_Rating', 'No_of_Ratings'],\n",
       "      dtype='object')"
      ]
     },
     "execution_count": 11,
     "metadata": {},
     "output_type": "execute_result"
    }
   ],
   "source": [
    "train.columns"
   ]
  },
  {
   "cell_type": "markdown",
   "id": "3f0fa4ed",
   "metadata": {},
   "source": [
    "## Categorical Variables"
   ]
  },
  {
   "cell_type": "code",
   "execution_count": 8,
   "id": "48df48d2",
   "metadata": {},
   "outputs": [
    {
     "data": {
      "text/plain": [
       "4    4229\n",
       "5    3993\n",
       "2    3959\n",
       "3    3823\n",
       "1    3788\n",
       "6    1223\n",
       "7     186\n",
       "Name: confirmed_wkday, dtype: int64"
      ]
     },
     "execution_count": 8,
     "metadata": {},
     "output_type": "execute_result"
    }
   ],
   "source": [
    "train['confirmed_wkday'].value_counts() #seeing how many orders are placed within each weekday "
   ]
  },
  {
   "cell_type": "markdown",
   "id": "13ec374e",
   "metadata": {},
   "source": [
    "From here there are:\n",
    "<br>\n",
    "3788 orders on Monday\n",
    "<br>\n",
    "3959 orders on Tuesday\n",
    "<br>\n",
    "3823 orders on Wednesday \n",
    "<br>\n",
    "4229 orders on Thursday\n",
    "<br>\n",
    "3993 orders on Friday\n",
    "<br>\n",
    "1223 orders on Saturday\n",
    "<br>\n",
    "186 orders on Sunday"
   ]
  },
  {
   "cell_type": "code",
   "execution_count": 16,
   "id": "35fbe3d1",
   "metadata": {},
   "outputs": [
    {
     "data": {
      "text/plain": [
       "<seaborn.axisgrid.FacetGrid at 0x7fb3adf32370>"
      ]
     },
     "execution_count": 16,
     "metadata": {},
     "output_type": "execute_result"
    },
    {
     "data": {
      "image/png": "[encoded data removed]",
      "text/plain": [
       "<Figure size 360x360 with 1 Axes>"
      ]
     },
     "metadata": {
      "needs_background": "light"
     },
     "output_type": "display_data"
    }
   ],
   "source": [
    "t_wkday = train['confirmed_wkday'].value_counts()\n",
    "sns.relplot(data = t_wkday)"
   ]
  },
  {
   "cell_type": "code",
   "execution_count": null,
   "id": "ceab064a",
   "metadata": {},
   "outputs": [],
   "source": []
  },
  {
   "cell_type": "code",
   "execution_count": null,
   "id": "f0263667",
   "metadata": {},
   "outputs": [],
   "source": []
  }
 ],
 "metadata": {
  "kernelspec": {
   "display_name": "Python 3 (ipykernel)",
   "language": "python",
   "name": "python3"
  },
  "language_info": {
   "codemirror_mode": {
    "name": "ipython",
    "version": 3
   },
   "file_extension": ".py",
   "mimetype": "text/x-python",
   "name": "python",
   "nbconvert_exporter": "python",
   "pygments_lexer": "ipython3",
   "version": "3.8.8"
  }
 },
 "nbformat": 4,
 "nbformat_minor": 5
}
